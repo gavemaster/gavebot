{
 "cells": [
  {
   "cell_type": "code",
   "execution_count": 13,
   "metadata": {},
   "outputs": [],
   "source": [
    "import requests\n",
    "\n",
    "async def get_sport_events_by_date(sport, date):\n",
    "    url = \"https://livescore6.p.rapidapi.com/matches/v2/list-by-date\"\n",
    "\n",
    "    querystring = {\"Category\":sport,\"Date\":date,\"Timezone\":\"-7\"}\n",
    "\n",
    "    headers = {\n",
    "\t    \"X-RapidAPI-Key\": \"b8fb6a4116msh73eb7d1cf3a9a77p1da165jsnda795b8be739\",\n",
    "\t    \"X-RapidAPI-Host\": \"livescore6.p.rapidapi.com\"\n",
    "    }\n",
    "\n",
    "    response = requests.get(url, headers=headers, params=querystring)\n",
    "\n",
    "    return response.json()\n",
    "\n",
    "\n",
    "async def get_lineup_by_event_id(event_id, sport):\n",
    "\n",
    "    url = \"https://livescore6.p.rapidapi.com/matches/v2/get-lineups\"\n",
    "\n",
    "    querystring = {\"Eid\":event_id,\"Category\":sport}\n",
    "\n",
    "    headers = {\n",
    "    \t\"X-RapidAPI-Key\": \"b8fb6a4116msh73eb7d1cf3a9a77p1da165jsnda795b8be739\",\n",
    "    \t\"X-RapidAPI-Host\": \"livescore6.p.rapidapi.com\"\n",
    "    }\n",
    "\n",
    "    response = requests.get(url, headers=headers, params=querystring)\n",
    "\n",
    "    return response.json()\n",
    "\n",
    "\n",
    "async def get_commentary_for_event_by_event_id(event_id):\n",
    "    \n",
    "\n",
    "    url = \"https://livescore6.p.rapidapi.com/matches/v2/get-commentary\"\n",
    "\n",
    "    querystring = {\"Eid\":event_id}\n",
    "\n",
    "    headers = {\n",
    "    \t\"X-RapidAPI-Key\": \"b8fb6a4116msh73eb7d1cf3a9a77p1da165jsnda795b8be739\",\n",
    "    \t\"X-RapidAPI-Host\": \"livescore6.p.rapidapi.com\"\n",
    "    }\n",
    "\n",
    "    response = requests.get(url, headers=headers, params=querystring)\n",
    "\n",
    "    return response.json()"
   ]
  },
  {
   "cell_type": "code",
   "execution_count": 14,
   "metadata": {},
   "outputs": [],
   "source": [
    "from langchain.tools.base import StructuredTool\n",
    "from langchain.chat_models import ChatOpenAI\n",
    "\n",
    "chat = ChatOpenAI(temperature=1.2)\n",
    "\n"
   ]
  },
  {
   "cell_type": "code",
   "execution_count": 15,
   "metadata": {},
   "outputs": [],
   "source": [
    "from typing import Optional\n",
    "def get_huggingface_models(\n",
    "    path: Optional[str] = None, query_params: Optional[dict] = None\n",
    ") -> dict:\n",
    "    \"\"\"Tool that calls GET on <https://livescore6.p.rapidapi.com/matches/v2/list-by-date\"*> apis. Valid params include \"date\":\"date\", \"category\":\"sport\", \"Timezone\":\"-7\" \".\"\"\"\n",
    "    base_url = \"<https://huggingface.co/api/models>\"\n",
    "    headers = {\"authorization\": f\"Bearer {API_KEY}\"}\n",
    "    result = requests.get(base_url + (path or \"\"), params=query_params, headers=headers)\n",
    "    return result.json()"
   ]
  },
  {
   "cell_type": "code",
   "execution_count": null,
   "metadata": {},
   "outputs": [],
   "source": []
  }
 ],
 "metadata": {
  "kernelspec": {
   "display_name": "Python 3",
   "language": "python",
   "name": "python3"
  },
  "language_info": {
   "codemirror_mode": {
    "name": "ipython",
    "version": 3
   },
   "file_extension": ".py",
   "mimetype": "text/x-python",
   "name": "python",
   "nbconvert_exporter": "python",
   "pygments_lexer": "ipython3",
   "version": "3.10.6"
  },
  "orig_nbformat": 4
 },
 "nbformat": 4,
 "nbformat_minor": 2
}
