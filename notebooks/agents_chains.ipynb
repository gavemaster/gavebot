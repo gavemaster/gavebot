{
 "cells": [
  {
   "cell_type": "code",
   "execution_count": 133,
   "metadata": {},
   "outputs": [],
   "source": [
    "from langchain.agents import load_tools\n",
    "from langchain.agents.agent_types import AgentType\n",
    "from langchain.agents import initialize_agent\n",
    "from langchain.llms import OpenAI\n",
    "import os\n",
    "from dotenv import load_dotenv, find_dotenv\n",
    "import openai\n",
    "from langchain.tools import DuckDuckGoSearchRun, Tool\n",
    "load_dotenv(find_dotenv())\n",
    "search = DuckDuckGoSearchRun()\n",
    "openai.api_key = os.getenv('OPENAI_API_KEY')\n",
    "llm = OpenAI(temperature=0)"
   ]
  },
  {
   "cell_type": "code",
   "execution_count": 122,
   "metadata": {},
   "outputs": [
    {
     "data": {
      "text/plain": [
       "'A wrapper around Wikipedia. Useful for when you need to answer general questions about people, places, companies, facts, historical events, or other subjects. Input should be a search query.'"
      ]
     },
     "execution_count": 122,
     "metadata": {},
     "output_type": "execute_result"
    }
   ],
   "source": [
    "tools =  load_tools([\"wikipedia\",\"llm-math\"],\n",
    "    llm=llm)\n",
    "\n",
    "tools[0].description"
   ]
  },
  {
   "cell_type": "code",
   "execution_count": 123,
   "metadata": {},
   "outputs": [],
   "source": [
    "agent=initialize_agent(tools=tools, llm=llm, agent=AgentType.ZERO_SHOT_REACT_DESCRIPTION, verbose=True)"
   ]
  },
  {
   "cell_type": "code",
   "execution_count": 125,
   "metadata": {},
   "outputs": [
    {
     "name": "stdout",
     "output_type": "stream",
     "text": [
      "\n",
      "\n",
      "\u001b[1m> Entering new  chain...\u001b[0m\n",
      "\u001b[32;1m\u001b[1;3m I need to find out what happened to the submarine\n",
      "Action: Wikipedia\n",
      "Action Input: Titan submarine 2023\u001b[0m\n",
      "Observation: \u001b[36;1m\u001b[1;3mPage: 2023 Titan submersible incident\n",
      "Summary: On 18 June 2023, Titan, a submersible operated by OceanGate, an American tourism and expeditions company, imploded during its descent in the North Atlantic Ocean, about 320 nautical miles (590 km) off the coast of Newfoundland, Canada. The submersible, carrying five people, was part of an expedition to view the wreck of the Titanic. Communication with Titan was lost 1 hour and 45 minutes into its dive, and authorities were alerted when it failed to resurface at the scheduled time later that day.\n",
      "After a search lasting nearly 80 hours, a remotely operated underwater vehicle (ROV) discovered a debris field containing parts of Titan, about 500 metres (1,600 ft) from the bow of the Titanic. The search area was informed by the United States Navy’s (USN) sonar detection of an acoustic signature consistent with an implosion around the time communications with the submersible ceased, suggesting the pressure hull had imploded while Titan was descending, resulting in the instantaneous deaths of all five occupants.\n",
      "The search and rescue operation was conducted by an international team led by the United States Coast Guard (USCG), USN, and Canadian Coast Guard. Support was provided by aircraft from the Royal Canadian Air Force and United States Air National Guard, a Royal Canadian Navy ship, as well as several commercial and research vessels and ROVs.Numerous industry experts had raised concerns about the safety of the vessel. OceanGate executives, including its CEO Stockton Rush (one of the fatalities in the implosion), had not sought certification for Titan, arguing that excessive safety protocols hindered innovation.\n",
      "\n",
      "Page: OceanGate\n",
      "Summary: OceanGate Inc. is a privately owned U.S. company in Everett, Washington, that provides crewed submersibles for tourism, industry, research, and exploration. The company was founded in 2009 by Stockton Rush and Guillermo Söhnlein.\n",
      "The company acquired a submersible vessel, Antipodes, and later built two of its own: Cyclops 1 and Titan. In 2021, OceanGate began taking paying tourists in the Titan to visit the wreck of the Titanic. As of 2022, the price to be a passenger on an OceanGate expedition to the Titanic shipwreck was US$250,000 per person.In June 2023 Titan imploded during a voyage to the Titanic shipwreck site, killing all 5 occupants on board, including Rush. An international search and rescue operation was launched and, on June 22, the wreckage was found on the seabed near the Titanic wreck site.\n",
      "\n",
      "Page: Iron Lung (video game)\n",
      "Summary: Iron Lung is a 2022 first-person submarine simulation horror game developed by David Szymanski. The player controls an unnamed convict who explores an ocean of blood on a desolate moon in a small, rusty submarine nicknamed the \"Iron Lung\". It was released on March 10, 2022 for Microsoft Windows to positive critical reception. A Nintendo Switch port was released on December 19, 2022. A film adaptation of Iron Lung, directed by and starring Markiplier, was announced on April 21, 2023.\n",
      "\n",
      "\u001b[0m\n",
      "Thought:\u001b[32;1m\u001b[1;3m I now know the final answer\n",
      "Final Answer: On 18 June 2023, Titan, a submersible operated by OceanGate, an American tourism and expeditions company, imploded during its descent in the North Atlantic Ocean, about 320 nautical miles (590 km) off the coast of Newfoundland, Canada. The submersible, carrying five people, was part of an expedition to view the wreck of the Titanic. Communication with Titan was lost 1 hour and 45 minutes into its dive, and authorities were alerted when it failed to resurface at the scheduled time later that day. After a search lasting nearly 80 hours, a remotely operated underwater vehicle (ROV) discovered a debris field containing parts of Titan, about 500 metres (1,600 ft) from the bow of the Titanic. The search and rescue operation was conducted by an international team led by the United States Coast Guard (USCG), USN, and Canadian Coast Guard.\u001b[0m\n",
      "\n",
      "\u001b[1m> Finished chain.\u001b[0m\n"
     ]
    },
    {
     "data": {
      "text/plain": [
       "'On 18 June 2023, Titan, a submersible operated by OceanGate, an American tourism and expeditions company, imploded during its descent in the North Atlantic Ocean, about 320 nautical miles (590 km) off the coast of Newfoundland, Canada. The submersible, carrying five people, was part of an expedition to view the wreck of the Titanic. Communication with Titan was lost 1 hour and 45 minutes into its dive, and authorities were alerted when it failed to resurface at the scheduled time later that day. After a search lasting nearly 80 hours, a remotely operated underwater vehicle (ROV) discovered a debris field containing parts of Titan, about 500 metres (1,600 ft) from the bow of the Titanic. The search and rescue operation was conducted by an international team led by the United States Coast Guard (USCG), USN, and Canadian Coast Guard.'"
      ]
     },
     "execution_count": 125,
     "metadata": {},
     "output_type": "execute_result"
    }
   ],
   "source": [
    "agent.run(\"what happend to the titan submarine that sank in 2023\")"
   ]
  },
  {
   "cell_type": "code",
   "execution_count": 127,
   "metadata": {},
   "outputs": [
    {
     "data": {
      "text/plain": [
       "'Answer the following questions as best you can. You have access to the following tools:\\n\\nWikipedia: A wrapper around Wikipedia. Useful for when you need to answer general questions about people, places, companies, facts, historical events, or other subjects. Input should be a search query.\\nCalculator: Useful for when you need to answer questions about math.\\n\\nUse the following format:\\n\\nQuestion: the input question you must answer\\nThought: you should always think about what to do\\nAction: the action to take, should be one of [Wikipedia, Calculator]\\nAction Input: the input to the action\\nObservation: the result of the action\\n... (this Thought/Action/Action Input/Observation can repeat N times)\\nThought: I now know the final answer\\nFinal Answer: the final answer to the original input question\\n\\nBegin!\\n\\nQuestion: {input}\\nThought:{agent_scratchpad}'"
      ]
     },
     "execution_count": 127,
     "metadata": {},
     "output_type": "execute_result"
    }
   ],
   "source": [
    "agent.agent.llm_chain.prompt.template"
   ]
  },
  {
   "cell_type": "code",
   "execution_count": 134,
   "metadata": {},
   "outputs": [],
   "source": [
    "search = DuckDuckGoSearchRun()\n",
    "\n",
    "tools = [ \n",
    "    Tool(\n",
    "        name=\"Search\",\n",
    "        func=search.run,\n",
    "        description=\"Useful for gathing knowledge about subjects you dont know or need to know more about.\",\n",
    "    )\n",
    "]\n",
    "\n",
    "\n",
    "template = \"\"\"\n",
    "    You are a bro in a discord chat with your best friends.\n",
    "           the year is 2023.\n",
    "           your name is gavebot.\n",
    "           here is some information about you:\n",
    "                   Your name is: gavebot\n",
    "                   -Far-Right Politically\n",
    "                   -Qanon Follower\n",
    "                   -Alex Jones esque when it comes to conspriacies\n",
    "                   -Degen Gambler and problem drinker\n",
    "                   -Short temper and can be an asshole\n",
    "                   -Loves sports\n",
    "                   -Extremely edgy and has no filter.\n",
    "                   -Cant take jokes too well.\n",
    "                   -Despises Mike Trout\n",
    "                   -in late 20s but constantly reminiscing about the past glory days of college\n",
    "                   - love sports\n",
    "                   - very outspoken is not afraid of any topic will always give their opinion \n",
    "    \n",
    "           you are given the following message: {input}\n",
    "    \n",
    "           you are tasked with responding to the message. as relevant information is needed you can use the following tools to get information\n",
    "           \n",
    "           {tools}\n",
    "    \n",
    "           use the following format:\n",
    "           Thought: you should ask yourself if you have enough information to respond or if you need to use a tool\n",
    "           Action: the tool used\n",
    "           observation: the result of the tool\n",
    "           (this Thought/Action/Observation should repeat until you have enough information to respond)\n",
    "           When you feel you have enough information to give a response you should respond how your personality descibed above would respond.\n",
    "           Thought: i am ready to respond\n",
    "           Final Answr: the final in character response to the original input message\n",
    "    \n",
    "           Begin! Remeber to answer like the character described above would respond.\n",
    "           {agent_scratchpad}\n",
    "    \"\"\""
   ]
  },
  {
   "cell_type": "code",
   "execution_count": 135,
   "metadata": {},
   "outputs": [
    {
     "ename": "NameError",
     "evalue": "name 'StringPromptTemplate' is not defined",
     "output_type": "error",
     "traceback": [
      "\u001b[0;31m---------------------------------------------------------------------------\u001b[0m",
      "\u001b[0;31mNameError\u001b[0m                                 Traceback (most recent call last)",
      "\u001b[0;32m/tmp/ipykernel_38301/692644048.py\u001b[0m in \u001b[0;36m<module>\u001b[0;34m\u001b[0m\n\u001b[1;32m      1\u001b[0m \u001b[0;31m#Set up a prompt template\u001b[0m\u001b[0;34m\u001b[0m\u001b[0;34m\u001b[0m\u001b[0m\n\u001b[1;32m      2\u001b[0m \u001b[0;34m\u001b[0m\u001b[0m\n\u001b[0;32m----> 3\u001b[0;31m \u001b[0;32mclass\u001b[0m \u001b[0mCustomPromptTemplate\u001b[0m\u001b[0;34m(\u001b[0m\u001b[0mStringPromptTemplate\u001b[0m\u001b[0;34m)\u001b[0m\u001b[0;34m:\u001b[0m\u001b[0;34m\u001b[0m\u001b[0;34m\u001b[0m\u001b[0m\n\u001b[0m\u001b[1;32m      4\u001b[0m     \u001b[0;32mdef\u001b[0m \u001b[0m__init__\u001b[0m\u001b[0;34m(\u001b[0m\u001b[0mself\u001b[0m\u001b[0;34m,\u001b[0m \u001b[0mtemplate\u001b[0m\u001b[0;34m:\u001b[0m \u001b[0mstr\u001b[0m\u001b[0;34m,\u001b[0m \u001b[0mtools\u001b[0m\u001b[0;34m:\u001b[0m \u001b[0mList\u001b[0m\u001b[0;34m[\u001b[0m\u001b[0mTool\u001b[0m\u001b[0;34m]\u001b[0m\u001b[0;34m)\u001b[0m\u001b[0;34m:\u001b[0m\u001b[0;34m\u001b[0m\u001b[0;34m\u001b[0m\u001b[0m\n\u001b[1;32m      5\u001b[0m         \u001b[0mself\u001b[0m\u001b[0;34m.\u001b[0m\u001b[0mtemplate\u001b[0m \u001b[0;34m=\u001b[0m \u001b[0mtemplate\u001b[0m\u001b[0;34m\u001b[0m\u001b[0;34m\u001b[0m\u001b[0m\n",
      "\u001b[0;31mNameError\u001b[0m: name 'StringPromptTemplate' is not defined"
     ]
    }
   ],
   "source": [
    "#Set up a prompt template\n",
    "from langchain.prompts import StringPromptTemplate\n",
    "from typing import List\n",
    "\n",
    "class CustomPromptTemplate(StringPromptTemplate):\n",
    "    \n",
    "    template: str\n",
    "    tools: List[Tool]\n",
    "\n",
    "    def format(self, *kwargs) -> str:\n",
    "        intermediate_steps = kwargs.pop(\"intermediate_steps\")\n",
    "        thoughts = \"\"\n",
    "        for action, observation in intermediate_steps:\n",
    "            thoughts += action.log\n",
    "            thoughts += f\"\\Observation: {observation}\\nThought: \"\n",
    "        kwargs['agent_scratchpad'] = thoughts\n",
    "        kwargs['tools'] = \"\\n\".join([f\"{tool.name}: {tool.description}\" for tool in self.tools])\n",
    "        kwargs['tool_name'] = \", \".join([tool.name for tool in self.tools])\n",
    "        return self.template.format(*kwargs)"
   ]
  },
  {
   "cell_type": "code",
   "execution_count": null,
   "metadata": {},
   "outputs": [],
   "source": []
  }
 ],
 "metadata": {
  "kernelspec": {
   "display_name": "Python 3",
   "language": "python",
   "name": "python3"
  },
  "language_info": {
   "codemirror_mode": {
    "name": "ipython",
    "version": 3
   },
   "file_extension": ".py",
   "mimetype": "text/x-python",
   "name": "python",
   "nbconvert_exporter": "python",
   "pygments_lexer": "ipython3",
   "version": "3.10.6"
  },
  "orig_nbformat": 4
 },
 "nbformat": 4,
 "nbformat_minor": 2
}
