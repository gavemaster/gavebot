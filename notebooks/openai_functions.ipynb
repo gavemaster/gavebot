{
 "cells": [
  {
   "cell_type": "code",
   "execution_count": 50,
   "metadata": {},
   "outputs": [
    {
     "data": {
      "text/plain": [
       "123.02"
      ]
     },
     "execution_count": 50,
     "metadata": {},
     "output_type": "execute_result"
    }
   ],
   "source": [
    "import yfinance as yf\n",
    "from langchain.tools import BaseTool\n",
    "from typing import Optional, Type\n",
    "from langchain.agents import initialize_agent, Tool\n",
    "from langchain.agents import AgentType\n",
    "from langchain.chat_models import ChatOpenAI\n",
    "\n",
    "\n",
    "\n",
    "def get_stock_price(symbol):\n",
    "    ticker = yf.Ticker(symbol)\n",
    "    todays_data = ticker.history(period='1d')\n",
    "    return round(todays_data['Close'][0], 2)\n",
    "\n",
    "get_stock_price('GOOG')"
   ]
  },
  {
   "cell_type": "code",
   "execution_count": 51,
   "metadata": {},
   "outputs": [],
   "source": [
    "functions = [\n",
    "    {\n",
    "        \"name\":\"get_current_weather\",\n",
    "        \"description\":\"Get current weather for a city\",\n",
    "        \"parameters\": {\n",
    "            \"type\":\"object\",\n",
    "            \"properties\":{\n",
    "                \"location\":{\n",
    "                    \"type\":\"string\",\n",
    "                    \"description\":\"City name and state code (e.g. 'San Francisco, CA')\",\n",
    "                },\n",
    "                \"format\":{\n",
    "                    \"type\":\"string\",\n",
    "                    \"enum\":[\"celcius\",\"fahrenheit\"],\n",
    "                    \"description\":\"Temperature format. infer this from users location\",\n",
    "                },\n",
    "            },\n",
    "            \"required\":[\"location\", \"format\"],\n",
    "        },\n",
    "    }\n",
    "]"
   ]
  },
  {
   "cell_type": "code",
   "execution_count": 80,
   "metadata": {},
   "outputs": [],
   "source": [
    "from typing import Any\n",
    "from pydantic import BaseModel, Field\n",
    "\n",
    "class StockPriceCheckInput(BaseModel):\n",
    "    stockTicker: str = Field(..., description=\"Stock ticker to check price for\")\n",
    "\n",
    "\n",
    "class StockPriceTool(BaseTool):\n",
    "    name = \"get_stock_price\"\n",
    "    description = \"Useful for when you need to find out the price of a stock. You shoud input the stock ticker used \"\n",
    "\n",
    "    def _run(self, stockTicker: str):\n",
    "        return get_stock_price(stockTicker)\n",
    "    def _arun(self, stockTicker: str):\n",
    "        raise NotImplementedError(\"This tool does not support async\")\n",
    "    \n",
    "    args_schema: Optional[Type[BaseModel]] = StockPriceCheckInput\n"
   ]
  },
  {
   "cell_type": "code",
   "execution_count": 81,
   "metadata": {},
   "outputs": [],
   "source": [
    "from langchain.chat_models import ChatOpenAI\n",
    "from langchain.schema import HumanMessage, AIMessage, ChatMessage, FunctionMessage\n"
   ]
  },
  {
   "cell_type": "code",
   "execution_count": 82,
   "metadata": {},
   "outputs": [],
   "source": [
    "model = ChatOpenAI(model=\"gpt-3.5-turbo-0613\")"
   ]
  },
  {
   "cell_type": "code",
   "execution_count": 83,
   "metadata": {},
   "outputs": [
    {
     "data": {
      "text/plain": [
       "{'name': 'move_file',\n",
       " 'description': 'Move a file from one location to another',\n",
       " 'parameters': {'title': 'FileMoveInput',\n",
       "  'description': 'Input for MoveFileTool',\n",
       "  'type': 'object',\n",
       "  'properties': {'source_path': {'title': 'Source Path',\n",
       "    'description': 'Path of the file to move',\n",
       "    'type': 'string'},\n",
       "   'destination_path': {'title': 'Destination Path',\n",
       "    'description': 'Path to move the file to',\n",
       "    'type': 'string'}},\n",
       "  'required': ['source_path', 'destination_path']}}"
      ]
     },
     "execution_count": 83,
     "metadata": {},
     "output_type": "execute_result"
    }
   ],
   "source": [
    "from langchain.tools import MoveFileTool, format_tool_to_openai_function\n",
    "\n",
    "{'name': 'move_file',\n",
    "  'description': 'Move a file from one location to another',\n",
    "    'parameters': {'title': 'FileMoveInput',\n",
    "                   'description': 'Input for MoveFileTool',\n",
    "                   'type': 'object',\n",
    "                   'properties': {'source_path': {'title': 'Source Path',\n",
    "                                                  'description': 'Path of the file to move',\n",
    "                                                  'type': 'string'},\n",
    "                                    'destination_path': {'title': 'Destination Path',\n",
    "                                                            'description': 'Path to move the file to',\n",
    "                                                            'type': 'string'}},\n",
    "                     'required': ['source_path', 'destination_path']}}\n",
    "\n"
   ]
  },
  {
   "cell_type": "code",
   "execution_count": 84,
   "metadata": {},
   "outputs": [
    {
     "data": {
      "text/plain": [
       "{'name': 'get_stock_price',\n",
       " 'description': 'Useful for when you need to find out the price of a stock. You shoud input the stock ticker used ',\n",
       " 'parameters': {'title': 'StockPriceCheckInput',\n",
       "  'type': 'object',\n",
       "  'properties': {'stockTicker': {'title': 'Stockticker',\n",
       "    'description': 'Stock ticker to check price for',\n",
       "    'type': 'string'}},\n",
       "  'required': ['stockTicker']}}"
      ]
     },
     "execution_count": 84,
     "metadata": {},
     "output_type": "execute_result"
    }
   ],
   "source": [
    "tools = [StockPriceTool()]\n",
    "functions = [format_tool_to_openai_function(tool) for tool in tools]\n",
    "\n",
    "functions[0]"
   ]
  },
  {
   "cell_type": "code",
   "execution_count": 85,
   "metadata": {},
   "outputs": [],
   "source": [
    "ai_message = model.predict_messages([HumanMessage(content='What is the price of the tesla stock?')], functions=functions)\n"
   ]
  },
  {
   "cell_type": "code",
   "execution_count": 86,
   "metadata": {},
   "outputs": [
    {
     "data": {
      "text/plain": [
       "{'name': 'get_stock_price', 'arguments': '{\\n  \"stockTicker\": \"TSLA\"\\n}'}"
      ]
     },
     "execution_count": 86,
     "metadata": {},
     "output_type": "execute_result"
    }
   ],
   "source": [
    "ai_message\n",
    "ai_message.additional_kwargs['function_call']"
   ]
  },
  {
   "cell_type": "code",
   "execution_count": 87,
   "metadata": {},
   "outputs": [
    {
     "data": {
      "text/plain": [
       "{'stockTicker': 'TSLA'}"
      ]
     },
     "execution_count": 87,
     "metadata": {},
     "output_type": "execute_result"
    }
   ],
   "source": [
    "import json\n",
    "\n",
    "_args = json.loads(ai_message.additional_kwargs['function_call'].get('arguments'))\n",
    "_args"
   ]
  },
  {
   "cell_type": "code",
   "execution_count": 88,
   "metadata": {},
   "outputs": [
    {
     "data": {
      "text/plain": [
       "256.6"
      ]
     },
     "execution_count": 88,
     "metadata": {},
     "output_type": "execute_result"
    }
   ],
   "source": [
    "tool_result = tools[0](_args)\n",
    "tool_result"
   ]
  },
  {
   "cell_type": "code",
   "execution_count": 89,
   "metadata": {},
   "outputs": [
    {
     "data": {
      "text/plain": [
       "FunctionMessage(content='256.6', additional_kwargs={}, name='get_stock_price')"
      ]
     },
     "execution_count": 89,
     "metadata": {},
     "output_type": "execute_result"
    }
   ],
   "source": [
    "FunctionMessage(name='get_stock_price', content=tool_result)"
   ]
  },
  {
   "cell_type": "code",
   "execution_count": 90,
   "metadata": {},
   "outputs": [],
   "source": [
    "final_message = model.predict_messages([HumanMessage(content='What is the price of the tesla stock?'),\n",
    "                                         ai_message,\n",
    "                                         FunctionMessage(name='get_stock_price', content=tool_result),\n",
    "                                         ], functions=functions)"
   ]
  },
  {
   "cell_type": "code",
   "execution_count": 91,
   "metadata": {},
   "outputs": [
    {
     "data": {
      "text/plain": [
       "AIMessage(content='The current price of Tesla stock is $256.6.', additional_kwargs={}, example=False)"
      ]
     },
     "execution_count": 91,
     "metadata": {},
     "output_type": "execute_result"
    }
   ],
   "source": [
    "final_message"
   ]
  },
  {
   "cell_type": "code",
   "execution_count": 92,
   "metadata": {},
   "outputs": [],
   "source": [
    "llm = ChatOpenAI(temperature=0, model=\"gpt-3.5-turbo-0613\")"
   ]
  },
  {
   "cell_type": "code",
   "execution_count": 93,
   "metadata": {},
   "outputs": [],
   "source": [
    "open_ai_agent = initialize_agent(tools,\n",
    "                                 llm,\n",
    "                                 agent=AgentType.OPENAI_FUNCTIONS,\n",
    "                                 verbose=True)"
   ]
  },
  {
   "cell_type": "code",
   "execution_count": 94,
   "metadata": {},
   "outputs": [
    {
     "name": "stdout",
     "output_type": "stream",
     "text": [
      "\n",
      "\n",
      "\u001b[1m> Entering new  chain...\u001b[0m\n",
      "\u001b[32;1m\u001b[1;3m\n",
      "Invoking: `get_stock_price` with `{'stockTicker': 'TSLA'}`\n",
      "\n",
      "\n",
      "\u001b[0m\u001b[36;1m\u001b[1;3m256.6\u001b[0m\u001b[32;1m\u001b[1;3mThe current price of Tesla stock is $256.6.\u001b[0m\n",
      "\n",
      "\u001b[1m> Finished chain.\u001b[0m\n"
     ]
    },
    {
     "data": {
      "text/plain": [
       "'The current price of Tesla stock is $256.6.'"
      ]
     },
     "execution_count": 94,
     "metadata": {},
     "output_type": "execute_result"
    }
   ],
   "source": [
    "open_ai_agent.run(\"What is the price of the tesla stock?\")"
   ]
  },
  {
   "attachments": {},
   "cell_type": "markdown",
   "metadata": {},
   "source": [
    "GUIDE TO CREATE A TOOL THEN AGENT\n",
    "\n",
    "1. define methods\n",
    "2. create the tools\n",
    "3. initilize agent"
   ]
  },
  {
   "cell_type": "code",
   "execution_count": 95,
   "metadata": {},
   "outputs": [
    {
     "data": {
      "text/plain": [
       "('AAPL', 5.29)"
      ]
     },
     "execution_count": 95,
     "metadata": {},
     "output_type": "execute_result"
    }
   ],
   "source": [
    "from datetime import datetime, timedelta\n",
    "\n",
    "def get_price_change_percentage(symbol, days_ago):\n",
    "    ticker = yf.Ticker(symbol)\n",
    "    end_date = datetime.now()\n",
    "    start_date = end_date - timedelta(days=days_ago)\n",
    "\n",
    "    historical_data = ticker.history(start=start_date, end=end_date)\n",
    "\n",
    "    old_price = historical_data['Close'].iloc[0]\n",
    "    new_price = historical_data['Close'].iloc[-1]\n",
    "\n",
    "    percent_change = ((new_price - old_price) / old_price) * 100\n",
    "    return round(percent_change, 2)\n",
    "\n",
    "\n",
    "def calculate_performance(symbol, days_ago):\n",
    "    ticker = yf.Ticker(symbol)\n",
    "    end_date = datetime.now()\n",
    "    start_date = end_date - timedelta(days=days_ago)\n",
    "    start_date = start_date.strftime(\"%Y-%m-%d\")\n",
    "    end_date = end_date.strftime(\"%Y-%m-%d\")\n",
    "    historical_data = ticker.history(start=start_date, end=end_date)\n",
    "    old_price = historical_data['Close'].iloc[0]\n",
    "    new_price = historical_data['Close'].iloc[-1]\n",
    "    percent_change = ((new_price - old_price) / old_price) * 100\n",
    "    return round(percent_change, 2)\n",
    "\n",
    "\n",
    "def get_best_performing_stock(stocks, days_ago):\n",
    "    best_stock = None\n",
    "    best_performance = None\n",
    "\n",
    "    for stock in stocks:\n",
    "        try:\n",
    "            performance = calculate_performance(stock, days_ago)\n",
    "            if best_performance is None or performance > best_performance:\n",
    "                best_performance = performance\n",
    "                best_stock = stock\n",
    "        except Exception as e:\n",
    "            print(f\"could not get performance for {stock}: {e}\")\n",
    "    return best_stock, best_performance\n",
    "\n",
    "\n",
    "stocks = ['AAPL', 'MSFT', 'GOOG' ]\n",
    "days_ago=30\n",
    "\n",
    "best_stock, best_performance = get_best_performing_stock(stocks, days_ago)\n",
    "best_stock, best_performance"
   ]
  },
  {
   "cell_type": "code",
   "execution_count": 96,
   "metadata": {},
   "outputs": [],
   "source": [
    "from typing import List\n",
    "\n",
    "class StockChangePercentageCheckInput(BaseModel):\n",
    "    \"\"\"input for Stock ticker check. for percentage check\"\"\"\n",
    "    stockTicker: str = Field(..., description=\"Stock ticker to check price for\")\n",
    "    days_ago: int = Field(..., description=\"Number of days ago to check price for\")\n",
    "\n",
    "\n",
    "class StockPercentageChangeTool(BaseTool):\n",
    "    name = \"get_price_change_percentage\"\n",
    "    description = \"Useful when you need to find the percentage change of a stock over a period of time\"\n",
    "\n",
    "    def _run(self, stockTicker: str, days_ago: int):\n",
    "        return get_price_change_percentage(stockTicker, days_ago)\n",
    "    def _arun(self, stockTicker: str, days_ago: int):\n",
    "        raise NotImplementedError(\"This tool does not support async\")\n",
    "    \n",
    "    args_schema: Optional[Type[BaseModel]] = StockChangePercentageCheckInput\n",
    "\n",
    "\n",
    "class StockBestPerformingInput(BaseModel):\n",
    "    \"\"\"input for Stock ticker check. for percentage check\"\"\"\n",
    "    stockTickers: List[str] = Field(..., description=\"Stock tickers to check price for\")\n",
    "    days_ago: int = Field(..., description=\"Number of days ago to check price for\")\n",
    "\n",
    "class StockGetBestPerformingTool(BaseTool):\n",
    "    name = \"get_best_performing_stock\"\n",
    "    description = \"Useful when you need to find the best performing stock over a period of time\"\n",
    "\n",
    "    def _run(self, stockTickers: List[str], days_ago: int):\n",
    "        return get_best_performing_stock(stockTickers, days_ago)\n",
    "    def _arun(self, stockTickers: List[str], days_ago: int):\n",
    "        raise NotImplementedError(\"This tool does not support async\")\n",
    "    \n",
    "    args_schema: Optional[Type[BaseModel]] = StockBestPerformingInput\n",
    "\n",
    "\n",
    "tools = [StockPriceTool(), StockPercentageChangeTool(), StockGetBestPerformingTool()]\n",
    "\n"
   ]
  },
  {
   "cell_type": "code",
   "execution_count": 97,
   "metadata": {},
   "outputs": [
    {
     "data": {
      "text/plain": [
       "[StockPriceTool(name='get_stock_price', description='Useful for when you need to find out the price of a stock. You shoud input the stock ticker used ', args_schema=<class '__main__.StockPriceCheckInput'>, return_direct=False, verbose=False, callbacks=None, callback_manager=None, handle_tool_error=False),\n",
       " StockPercentageChangeTool(name='get_price_change_percentage', description='Useful when you need to find the percentage change of a stock over a period of time', args_schema=<class '__main__.StockChangePercentageCheckInput'>, return_direct=False, verbose=False, callbacks=None, callback_manager=None, handle_tool_error=False),\n",
       " StockGetBestPerformingTool(name='get_best_performing_stock', description='Useful when you need to find the best performing stock over a period of time', args_schema=<class '__main__.StockBestPerformingInput'>, return_direct=False, verbose=False, callbacks=None, callback_manager=None, handle_tool_error=False)]"
      ]
     },
     "execution_count": 97,
     "metadata": {},
     "output_type": "execute_result"
    }
   ],
   "source": [
    "tools"
   ]
  },
  {
   "cell_type": "code",
   "execution_count": 98,
   "metadata": {},
   "outputs": [],
   "source": [
    "llm = ChatOpenAI(temperature=0, model=\"gpt-3.5-turbo-0613\")\n"
   ]
  },
  {
   "cell_type": "code",
   "execution_count": 99,
   "metadata": {},
   "outputs": [],
   "source": [
    "open_ai_agent = initialize_agent(tools,\n",
    "                                    llm,\n",
    "                                    agent=AgentType.OPENAI_FUNCTIONS,\n",
    "                                    verbose=True)"
   ]
  },
  {
   "cell_type": "code",
   "execution_count": 100,
   "metadata": {},
   "outputs": [
    {
     "name": "stdout",
     "output_type": "stream",
     "text": [
      "\n",
      "\n",
      "\u001b[1m> Entering new  chain...\u001b[0m\n",
      "\u001b[32;1m\u001b[1;3m\n",
      "Invoking: `get_stock_price` with `{'stockTicker': 'TSLA'}`\n",
      "\n",
      "\n",
      "\u001b[0m\u001b[36;1m\u001b[1;3m256.6\u001b[0m\u001b[32;1m\u001b[1;3mThe current price of Tesla stock is $256.6.\u001b[0m\n",
      "\n",
      "\u001b[1m> Finished chain.\u001b[0m\n"
     ]
    },
    {
     "data": {
      "text/plain": [
       "'The current price of Tesla stock is $256.6.'"
      ]
     },
     "execution_count": 100,
     "metadata": {},
     "output_type": "execute_result"
    }
   ],
   "source": [
    "open_ai_agent.run(\"What is the price of the tesla stock?\")"
   ]
  },
  {
   "cell_type": "code",
   "execution_count": 101,
   "metadata": {},
   "outputs": [
    {
     "name": "stdout",
     "output_type": "stream",
     "text": [
      "\n",
      "\n",
      "\u001b[1m> Entering new  chain...\u001b[0m\n",
      "\u001b[32;1m\u001b[1;3m\n",
      "Invoking: `get_price_change_percentage` with `{'stockTicker': 'GOOGL', 'days_ago': 30}`\n",
      "\n",
      "\n",
      "\u001b[0m\u001b[33;1m\u001b[1;3m-1.08\u001b[0m\u001b[32;1m\u001b[1;3mNo, Google's stock (GOOGL) has decreased by 1.08% over the last 30 days.\u001b[0m\n",
      "\n",
      "\u001b[1m> Finished chain.\u001b[0m\n"
     ]
    },
    {
     "data": {
      "text/plain": [
       "\"No, Google's stock (GOOGL) has decreased by 1.08% over the last 30 days.\""
      ]
     },
     "execution_count": 101,
     "metadata": {},
     "output_type": "execute_result"
    }
   ],
   "source": [
    "open_ai_agent.run(\"Has ggoogles stock gone up over the last 30 days?\")"
   ]
  },
  {
   "cell_type": "code",
   "execution_count": 184,
   "metadata": {},
   "outputs": [],
   "source": [
    "import requests\n",
    "\n",
    "def get_sport_events_by_date(sport, league, days, teams):\n",
    "\n",
    "    if days > 0:\n",
    "        dste = datetime.now() + timedelta(days=days)\n",
    "    else:\n",
    "        dste = datetime.now() - timedelta(days=abs(days))\n",
    "\n",
    "    date = dste.strftime(\"%Y%m%d\")\n",
    "\n",
    "    url = \"https://site.api.espn.com/apis/site/v2/sports/\" + sport + \"/\" + league + \"/scoreboard?dates=\" + date\n",
    "    response = requests.get(url)\n",
    "    json_data = response.json()\n",
    "    \n",
    "    events = json_data['events']\n",
    "    relevant_data = []\n",
    "    for event in events:\n",
    "        team1 = event['competitions'][0]['competitors'][0]['team']['displayName']\n",
    "        team2 = event['competitions'][0]['competitors'][1]['team']['displayName']  \n",
    "\n",
    "        specific_keys = {\n",
    "            \"event\": event.get(\"name\"),\n",
    "            \"isFinished\": event[\"status\"][\"type\"].get('completed'),\n",
    "            \"when\": event.get(\"date\"),\n",
    "            \"id\": event.get(\"id\"),\n",
    "            \"headlines\": event.get(\"headlines\"),\n",
    "            \"venue\": event['competitions'][0].get(\"venue\"),\n",
    "            \"format\": event['competitions'][0].get(\"format\"),\n",
    "            \"notes\": event['competitions'][0].get(\"notes\"),\n",
    "        }\n",
    "\n",
    "        if (team1 or team2 in teams) or teams == None:\n",
    "            relevant_data.append(specific_keys)\n",
    "    \n",
    "    return relevant_data\n",
    "\n",
    "\n"
   ]
  },
  {
   "cell_type": "code",
   "execution_count": 185,
   "metadata": {},
   "outputs": [],
   "source": [
    "class SportEventsByDateCheckInput(BaseModel):\n",
    "    \"\"\"input for get sport events by date check\"\"\"\n",
    "    sport: str = Field(..., description=\"Sport to check events for.... given a league sport should be the coressponding sport\")\n",
    "    league: str = Field(..., description=\"League to check events for.... given the sport league should be the most common league for the sport in the united states\")\n",
    "    days: int = Field(..., description=\"representing the number of days from today to check events for. negative numbers are in the past, positive numbers are in the future\")\n",
    "    teams: List[str] = Field(..., description=\"List of teams to filter events by. If none are provided all events will be returned and this list should be empty the team names should be written in there full display name ex. 'Los Angeles Lakers'\")\n",
    "class SportEventsByDateTool(BaseTool):\n",
    "    name = \"get_sports_events_by_date\"\n",
    "    description = \"Useful when you need information on the games for a particular sport League in the undited states ex. leagyes = mlb,nfl,nba,nhl,mls,wnba, mens-college-basketball, womens-college-basketball, mens-college-football\"\n",
    "\n",
    "    def _run(self, sport: str, league: str, days: int, teams: List[str]):\n",
    "        return get_sport_events_by_date(sport, league, days, teams)\n",
    "    def _arun(self, sport: str, league: str, days: int, teams: List[str]):\n",
    "        raise NotImplementedError(\"This tool does not support async\")\n",
    "    \n",
    "    args_schema: Optional[Type[BaseModel]] = SportEventsByDateCheckInput\n",
    "tools = [SportEventsByDateTool()]"
   ]
  },
  {
   "cell_type": "code",
   "execution_count": 186,
   "metadata": {},
   "outputs": [],
   "source": [
    "llm = ChatOpenAI(temperature=0, model=\"gpt-3.5-turbo-0613\")\n",
    "open_ai_agent = initialize_agent(tools,\n",
    "                                    llm,\n",
    "                                    agent=AgentType.OPENAI_FUNCTIONS,\n",
    "                                    verbose=True)"
   ]
  },
  {
   "cell_type": "code",
   "execution_count": 189,
   "metadata": {},
   "outputs": [
    {
     "name": "stdout",
     "output_type": "stream",
     "text": [
      "\n",
      "\n",
      "\u001b[1m> Entering new  chain...\u001b[0m\n",
      "\u001b[32;1m\u001b[1;3m\n",
      "Invoking: `get_sports_events_by_date` with `{'sport': 'baseball', 'league': 'mlb', 'days': 1, 'teams': [], 'time': 'afternoon'}`\n",
      "\n",
      "\n",
      "\u001b[0m\u001b[36;1m\u001b[1;3m[{'event': 'Cincinnati Reds at Baltimore Orioles', 'isFinished': False, 'when': '2023-06-27T23:05Z', 'id': '401472197', 'headlines': None, 'venue': {'id': '1', 'fullName': 'Oriole Park at Camden Yards', 'address': {'city': 'Baltimore', 'state': 'Maryland'}, 'capacity': 45971, 'indoor': True}, 'format': {'regulation': {'periods': 9}}, 'notes': []}, {'event': 'San Diego Padres at Pittsburgh Pirates', 'isFinished': False, 'when': '2023-06-27T23:05Z', 'id': '401472209', 'headlines': None, 'venue': {'id': '47', 'fullName': 'PNC Park', 'address': {'city': 'Pittsburgh', 'state': 'Pennsylvania'}, 'capacity': 38753, 'indoor': False}, 'format': {'regulation': {'periods': 9}}, 'notes': []}, {'event': 'San Francisco Giants at Toronto Blue Jays', 'isFinished': False, 'when': '2023-06-27T23:07Z', 'id': '401472206', 'headlines': None, 'venue': {'id': '14', 'fullName': 'Rogers Centre', 'address': {'city': 'Toronto', 'state': 'Ontario'}, 'capacity': 49282, 'indoor': True}, 'format': {'regulation': {'periods': 9}}, 'notes': []}, {'event': 'Miami Marlins at Boston Red Sox', 'isFinished': False, 'when': '2023-06-27T23:10Z', 'id': '401472201', 'headlines': None, 'venue': {'id': '2', 'fullName': 'Fenway Park', 'address': {'city': 'Boston', 'state': 'Massachusetts'}, 'capacity': 37755, 'indoor': False}, 'format': {'regulation': {'periods': 9}}, 'notes': []}, {'event': 'Milwaukee Brewers at New York Mets', 'isFinished': False, 'when': '2023-06-27T23:10Z', 'id': '401472202', 'headlines': None, 'venue': {'id': '209', 'fullName': 'Citi Field', 'address': {'city': 'Queens', 'state': 'New York'}, 'capacity': 42136, 'indoor': False}, 'format': {'regulation': {'periods': 9}}, 'notes': []}, {'event': 'Minnesota Twins at Atlanta Braves', 'isFinished': False, 'when': '2023-06-27T23:20Z', 'id': '401472203', 'headlines': None, 'venue': {'id': '218', 'fullName': 'Truist Park', 'address': {'city': 'Atlanta', 'state': 'Georgia'}, 'capacity': 41149, 'indoor': False}, 'format': {'regulation': {'periods': 9}}, 'notes': []}, {'event': 'Houston Astros at St. Louis Cardinals', 'isFinished': False, 'when': '2023-06-27T23:45Z', 'id': '401472200', 'headlines': None, 'venue': {'id': '87', 'fullName': 'Busch Stadium', 'address': {'city': 'St. Louis', 'state': 'Missouri'}, 'capacity': 44494, 'indoor': False}, 'format': {'regulation': {'periods': 9}}, 'notes': []}, {'event': 'Detroit Tigers at Texas Rangers', 'isFinished': False, 'when': '2023-06-28T00:05Z', 'id': '401472199', 'headlines': None, 'venue': {'id': '231', 'fullName': 'Globe Life Field', 'address': {'city': 'Arlington', 'state': 'Texas'}, 'capacity': 40000, 'indoor': False}, 'format': {'regulation': {'periods': 9}}, 'notes': []}, {'event': 'Philadelphia Phillies at Chicago Cubs', 'isFinished': False, 'when': '2023-06-28T00:05Z', 'id': '401472205', 'headlines': None, 'venue': {'id': '16', 'fullName': 'Wrigley Field', 'address': {'city': 'Chicago', 'state': 'Illinois'}, 'capacity': 41363, 'indoor': False}, 'format': {'regulation': {'periods': 9}}, 'notes': []}, {'event': 'Cleveland Guardians at Kansas City Royals', 'isFinished': False, 'when': '2023-06-28T00:10Z', 'id': '401472198', 'headlines': None, 'venue': {'id': '7', 'fullName': 'Kauffman Stadium', 'address': {'city': 'Kansas City', 'state': 'Missouri'}, 'capacity': 38427, 'indoor': True}, 'format': {'regulation': {'periods': 9}}, 'notes': []}, {'event': 'Los Angeles Dodgers at Colorado Rockies', 'isFinished': False, 'when': '2023-06-28T00:40Z', 'id': '401472210', 'headlines': None, 'venue': {'id': '27', 'fullName': 'Coors Field', 'address': {'city': 'Denver', 'state': 'Colorado'}, 'capacity': 50144, 'indoor': False}, 'format': {'regulation': {'periods': 9}}, 'notes': []}, {'event': 'Chicago White Sox at Los Angeles Angels', 'isFinished': False, 'when': '2023-06-28T01:38Z', 'id': '401472196', 'headlines': None, 'venue': {'id': '3', 'fullName': 'Angel Stadium', 'address': {'city': 'Anaheim', 'state': 'California'}, 'capacity': 45517, 'indoor': False}, 'format': {'regulation': {'periods': 9}}, 'notes': []}, {'event': 'New York Yankees at Oakland Athletics', 'isFinished': False, 'when': '2023-06-28T01:40Z', 'id': '401472204', 'headlines': None, 'venue': {'id': '3867', 'fullName': 'Oakland Coliseum', 'address': {'city': 'Oakland', 'state': 'California'}, 'capacity': 46847, 'indoor': False}, 'format': {'regulation': {'periods': 9}}, 'notes': []}, {'event': 'Tampa Bay Rays at Arizona Diamondbacks', 'isFinished': False, 'when': '2023-06-28T01:40Z', 'id': '401472207', 'headlines': None, 'venue': {'id': '30', 'fullName': 'Chase Field', 'address': {'city': 'Phoenix', 'state': 'Arizona'}, 'capacity': 48359, 'indoor': True}, 'format': {'regulation': {'periods': 9}}, 'notes': []}, {'event': 'Washington Nationals at Seattle Mariners', 'isFinished': False, 'when': '2023-06-28T01:40Z', 'id': '401472208', 'headlines': None, 'venue': {'id': '41', 'fullName': 'T-Mobile Park', 'address': {'city': 'Seattle', 'state': 'Washington'}, 'capacity': 47929, 'indoor': True}, 'format': {'regulation': {'periods': 9}}, 'notes': []}]\u001b[0m\u001b[32;1m\u001b[1;3mHere are some baseball games that start in the afternoon:\n",
      "\n",
      "1. Cincinnati Reds at Baltimore Orioles - Starts at 4:05 PM ET\n",
      "2. San Diego Padres at Pittsburgh Pirates - Starts at 4:05 PM ET\n",
      "3. San Francisco Giants at Toronto Blue Jays - Starts at 4:07 PM ET\n",
      "4. Miami Marlins at Boston Red Sox - Starts at 4:10 PM ET\n",
      "5. Milwaukee Brewers at New York Mets - Starts at 4:10 PM ET\n",
      "\n",
      "Please note that the game times are in Eastern Time (ET).\u001b[0m\n",
      "\n",
      "\u001b[1m> Finished chain.\u001b[0m\n"
     ]
    },
    {
     "data": {
      "text/plain": [
       "{'input': 'can you give me a baseball game to wager on that starts in the afternoon',\n",
       " 'output': 'Here are some baseball games that start in the afternoon:\\n\\n1. Cincinnati Reds at Baltimore Orioles - Starts at 4:05 PM ET\\n2. San Diego Padres at Pittsburgh Pirates - Starts at 4:05 PM ET\\n3. San Francisco Giants at Toronto Blue Jays - Starts at 4:07 PM ET\\n4. Miami Marlins at Boston Red Sox - Starts at 4:10 PM ET\\n5. Milwaukee Brewers at New York Mets - Starts at 4:10 PM ET\\n\\nPlease note that the game times are in Eastern Time (ET).'}"
      ]
     },
     "execution_count": 189,
     "metadata": {},
     "output_type": "execute_result"
    }
   ],
   "source": [
    "open_ai_agent('can you give me a baseball game to wager on that starts in the afternoon')"
   ]
  },
  {
   "cell_type": "code",
   "execution_count": null,
   "metadata": {},
   "outputs": [],
   "source": []
  }
 ],
 "metadata": {
  "kernelspec": {
   "display_name": "Python 3",
   "language": "python",
   "name": "python3"
  },
  "language_info": {
   "codemirror_mode": {
    "name": "ipython",
    "version": 3
   },
   "file_extension": ".py",
   "mimetype": "text/x-python",
   "name": "python",
   "nbconvert_exporter": "python",
   "pygments_lexer": "ipython3",
   "version": "3.10.6"
  },
  "orig_nbformat": 4
 },
 "nbformat": 4,
 "nbformat_minor": 2
}
